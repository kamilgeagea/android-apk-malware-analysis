{
 "cells": [
  {
   "cell_type": "code",
   "execution_count": 2,
   "id": "parallel-brunswick",
   "metadata": {},
   "outputs": [],
   "source": [
    "import pandas as pd\n",
    "import numpy as np\n",
    "from sklearn.model_selection import train_test_split\n",
    "from sklearn.metrics import f1_score, accuracy_score, classification_report, confusion_matrix, ConfusionMatrixDisplay\n",
    "from sklearn.model_selection import GridSearchCV, RandomizedSearchCV\n",
    "import matplotlib.pyplot as plt"
   ]
  },
  {
   "cell_type": "markdown",
   "id": "decreased-orchestra",
   "metadata": {},
   "source": [
    "# Data Preprocessing"
   ]
  },
  {
   "cell_type": "code",
   "execution_count": 3,
   "id": "qualified-composer",
   "metadata": {},
   "outputs": [],
   "source": [
    "df = pd.read_csv(\"../datasets/merged_dataset.csv\")"
   ]
  },
  {
   "cell_type": "markdown",
   "id": "protecting-crossing",
   "metadata": {},
   "source": [
    "#### Dataset Vizualization"
   ]
  },
  {
   "cell_type": "code",
   "execution_count": 12,
   "id": "negative-witch",
   "metadata": {},
   "outputs": [],
   "source": [
    "malicious_count = len(df[df['is_malicious']==1])\n",
    "benign_count = len(df[df['is_malicious']==0])"
   ]
  },
  {
   "cell_type": "code",
   "execution_count": 13,
   "id": "center-platinum",
   "metadata": {},
   "outputs": [],
   "source": [
    "labels = [\"Benign\", \"Malicious\"]\n",
    "frequency = [benign_count, malicious_count]"
   ]
  },
  {
   "cell_type": "code",
   "execution_count": 14,
   "id": "given-freeware",
   "metadata": {},
   "outputs": [
    {
     "data": {
      "image/png": "[encoded data removed]",
      "text/plain": [
       "<Figure size 432x288 with 1 Axes>"
      ]
     },
     "metadata": {
      "needs_background": "light"
     },
     "output_type": "display_data"
    }
   ],
   "source": [
    "plt.bar(labels, frequency, width=0.5)\n",
    "plt.xlabel(\"Type\")\n",
    "plt.ylabel(\"Frequency\")\n",
    "plt.title(\"Frequency of the labels in the Dataset\")\n",
    "plt.show()"
   ]
  },
  {
   "cell_type": "markdown",
   "id": "billion-movie",
   "metadata": {},
   "source": [
    "#### Data Split"
   ]
  },
  {
   "cell_type": "code",
   "execution_count": 15,
   "id": "choice-communications",
   "metadata": {},
   "outputs": [],
   "source": [
    "from sklearn.utils import shuffle\n",
    "df = shuffle(df, random_state=42)"
   ]
  },
  {
   "cell_type": "code",
   "execution_count": 16,
   "id": "concrete-observer",
   "metadata": {},
   "outputs": [],
   "source": [
    "X = df.drop([\"id\", \"is_malicious\"], axis=1)\n",
    "y = df[\"is_malicious\"]\n",
    "\n",
    "X_train, X_test, y_train, y_test = train_test_split(X, y, test_size=0.2, random_state=42, shuffle=False)"
   ]
  },
  {
   "cell_type": "markdown",
   "id": "magnetic-tucson",
   "metadata": {},
   "source": [
    "#### Normalization"
   ]
  },
  {
   "cell_type": "code",
   "execution_count": 17,
   "id": "powerful-contrary",
   "metadata": {},
   "outputs": [],
   "source": [
    "from sklearn.preprocessing import StandardScaler\n",
    "\n",
    "scaler = StandardScaler()\n",
    "scaler.fit(X_train)\n",
    "\n",
    "X_train = scaler.transform(X_train)\n",
    "X_test = scaler.transform(X_test)"
   ]
  },
  {
   "cell_type": "markdown",
   "id": "surface-incidence",
   "metadata": {},
   "source": [
    "# Model Training"
   ]
  },
  {
   "cell_type": "markdown",
   "id": "duplicate-peeing",
   "metadata": {},
   "source": [
    "## Random Forest"
   ]
  },
  {
   "cell_type": "code",
   "execution_count": 18,
   "id": "driving-pacific",
   "metadata": {},
   "outputs": [],
   "source": [
    "from sklearn.ensemble import RandomForestClassifier\n",
    "\n",
    "rfclf = RandomForestClassifier()"
   ]
  },
  {
   "cell_type": "code",
   "execution_count": 19,
   "id": "transsexual-diana",
   "metadata": {},
   "outputs": [],
   "source": [
    "params_rf = {\n",
    "    \"n_estimators\": [800, 1200, 2000],\n",
    "    \"max_depth\": [500, 600, 700],\n",
    "    \"min_samples_split\": [2, 5, 10],\n",
    "    \"min_samples_leaf\": [1, 2, 5]\n",
    "}"
   ]
  },
  {
   "cell_type": "markdown",
   "id": "current-alarm",
   "metadata": {},
   "source": [
    "#### Training"
   ]
  },
  {
   "cell_type": "code",
   "execution_count": null,
   "id": "simplified-anime",
   "metadata": {},
   "outputs": [],
   "source": [
    "rf = RandomizedSearchCV(rfclf, params_rf, cv=10, scoring=\"f1\", n_jobs=-1, random_state=42)\n",
    "rf.fit(X_train, y_train)"
   ]
  },
  {
   "cell_type": "markdown",
   "id": "every-extra",
   "metadata": {},
   "source": [
    "#### Results"
   ]
  },
  {
   "cell_type": "code",
   "execution_count": 21,
   "id": "significant-bailey",
   "metadata": {},
   "outputs": [],
   "source": [
    "rf_pred = rf.predict(X_test)"
   ]
  },
  {
   "cell_type": "code",
   "execution_count": 22,
   "id": "super-continuity",
   "metadata": {},
   "outputs": [
    {
     "name": "stdout",
     "output_type": "stream",
     "text": [
      "              precision    recall  f1-score   support\n",
      "\n",
      "           0       0.93      0.92      0.92      1078\n",
      "           1       0.92      0.93      0.92      1078\n",
      "\n",
      "    accuracy                           0.92      2156\n",
      "   macro avg       0.92      0.92      0.92      2156\n",
      "weighted avg       0.92      0.92      0.92      2156\n",
      "\n"
     ]
    }
   ],
   "source": [
    "rf_score = f1_score(rf_pred, y_test)\n",
    "print(classification_report(rf_pred, y_test))"
   ]
  },
  {
   "cell_type": "markdown",
   "id": "furnished-freedom",
   "metadata": {},
   "source": [
    "## Decision Tree"
   ]
  },
  {
   "cell_type": "code",
   "execution_count": 23,
   "id": "monthly-south",
   "metadata": {},
   "outputs": [],
   "source": [
    "from sklearn.tree import DecisionTreeClassifier\n",
    "\n",
    "dtclf = DecisionTreeClassifier()"
   ]
  },
  {
   "cell_type": "code",
   "execution_count": 24,
   "id": "designed-anime",
   "metadata": {},
   "outputs": [],
   "source": [
    "params_dt = {\n",
    "    \"criterion\": [\"gini\", \"entropy\"],\n",
    "    \"max_depth\": [1000, 1500, 2000, 2500],\n",
    "    \"min_samples_split\": [2, 5, 10, 15, 100],\n",
    "    \"min_samples_leaf\": [1, 2, 5, 10]\n",
    "}"
   ]
  },
  {
   "cell_type": "markdown",
   "id": "necessary-enlargement",
   "metadata": {},
   "source": [
    "#### Training"
   ]
  },
  {
   "cell_type": "code",
   "execution_count": null,
   "id": "wooden-catalyst",
   "metadata": {},
   "outputs": [],
   "source": [
    "dt = RandomizedSearchCV(dtclf, params_dt, cv=10, scoring=\"f1\", n_jobs=-1, random_state=42)\n",
    "dt.fit(X_train, y_train)"
   ]
  },
  {
   "cell_type": "markdown",
   "id": "vietnamese-breach",
   "metadata": {},
   "source": [
    "#### Results"
   ]
  },
  {
   "cell_type": "code",
   "execution_count": 26,
   "id": "editorial-harvey",
   "metadata": {},
   "outputs": [],
   "source": [
    "dt_pred = dt.predict(X_test)"
   ]
  },
  {
   "cell_type": "code",
   "execution_count": 27,
   "id": "uniform-smile",
   "metadata": {},
   "outputs": [
    {
     "name": "stdout",
     "output_type": "stream",
     "text": [
      "              precision    recall  f1-score   support\n",
      "\n",
      "           0       0.88      0.89      0.89      1057\n",
      "           1       0.89      0.89      0.89      1099\n",
      "\n",
      "    accuracy                           0.89      2156\n",
      "   macro avg       0.89      0.89      0.89      2156\n",
      "weighted avg       0.89      0.89      0.89      2156\n",
      "\n"
     ]
    }
   ],
   "source": [
    "dt_score = f1_score(dt_pred, y_test)\n",
    "print(classification_report(dt_pred, y_test))"
   ]
  },
  {
   "cell_type": "markdown",
   "id": "increasing-moral",
   "metadata": {},
   "source": [
    "## KNN"
   ]
  },
  {
   "cell_type": "code",
   "execution_count": 28,
   "id": "alternate-minister",
   "metadata": {},
   "outputs": [],
   "source": [
    "from sklearn.neighbors import KNeighborsClassifier\n",
    "\n",
    "knnclf = KNeighborsClassifier()"
   ]
  },
  {
   "cell_type": "code",
   "execution_count": 29,
   "id": "restricted-target",
   "metadata": {},
   "outputs": [],
   "source": [
    "params_knn = {\n",
    "    \"n_neighbors\": range(3,100,2)\n",
    "}"
   ]
  },
  {
   "cell_type": "markdown",
   "id": "moved-orlando",
   "metadata": {},
   "source": [
    "#### Training"
   ]
  },
  {
   "cell_type": "code",
   "execution_count": null,
   "id": "configured-marshall",
   "metadata": {},
   "outputs": [],
   "source": [
    "knn = RandomizedSearchCV(knnclf, params_knn, cv=10, scoring=\"f1\", n_jobs=-1, random_state=42)\n",
    "knn.fit(X_train, y_train)"
   ]
  },
  {
   "cell_type": "markdown",
   "id": "provincial-inspector",
   "metadata": {},
   "source": [
    "#### Results"
   ]
  },
  {
   "cell_type": "code",
   "execution_count": 31,
   "id": "separated-stack",
   "metadata": {},
   "outputs": [],
   "source": [
    "knn_pred = knn.predict(X_test)"
   ]
  },
  {
   "cell_type": "code",
   "execution_count": 32,
   "id": "artistic-washington",
   "metadata": {},
   "outputs": [
    {
     "name": "stdout",
     "output_type": "stream",
     "text": [
      "              precision    recall  f1-score   support\n",
      "\n",
      "           0       0.91      0.88      0.89      1108\n",
      "           1       0.87      0.91      0.89      1048\n",
      "\n",
      "    accuracy                           0.89      2156\n",
      "   macro avg       0.89      0.89      0.89      2156\n",
      "weighted avg       0.89      0.89      0.89      2156\n",
      "\n"
     ]
    }
   ],
   "source": [
    "knn_score = f1_score(knn_pred, y_test)\n",
    "print(classification_report(knn_pred, y_test))"
   ]
  },
  {
   "cell_type": "markdown",
   "id": "clinical-louis",
   "metadata": {},
   "source": [
    "## MLP"
   ]
  },
  {
   "cell_type": "code",
   "execution_count": 33,
   "id": "subjective-greece",
   "metadata": {},
   "outputs": [],
   "source": [
    "from sklearn.neural_network import MLPClassifier\n",
    "\n",
    "mlpclf = MLPClassifier()"
   ]
  },
  {
   "cell_type": "code",
   "execution_count": 34,
   "id": "bottom-spank",
   "metadata": {},
   "outputs": [],
   "source": [
    "params_mlp = {\n",
    "    'hidden_layer_sizes': [(50,50,50), (50,100,50), (100,)],\n",
    "    'activation': ['tanh', 'relu'],\n",
    "    'solver': ['sgd', 'adam'],\n",
    "    'alpha': [0.0001, 0.05],\n",
    "    'learning_rate': ['constant','adaptive'],\n",
    "}"
   ]
  },
  {
   "cell_type": "markdown",
   "id": "architectural-marks",
   "metadata": {},
   "source": [
    "#### Training"
   ]
  },
  {
   "cell_type": "code",
   "execution_count": null,
   "id": "ahead-happening",
   "metadata": {},
   "outputs": [],
   "source": [
    "mlp = RandomizedSearchCV(mlpclf, params_mlp, cv=10, scoring=\"f1\", n_jobs=-1, random_state=42)\n",
    "mlp.fit(X_train, y_train)"
   ]
  },
  {
   "cell_type": "markdown",
   "id": "sublime-taxation",
   "metadata": {},
   "source": [
    "#### Results"
   ]
  },
  {
   "cell_type": "code",
   "execution_count": 36,
   "id": "arranged-theory",
   "metadata": {},
   "outputs": [],
   "source": [
    "mlp_pred = mlp.predict(X_test)"
   ]
  },
  {
   "cell_type": "code",
   "execution_count": 37,
   "id": "union-contributor",
   "metadata": {},
   "outputs": [
    {
     "name": "stdout",
     "output_type": "stream",
     "text": [
      "              precision    recall  f1-score   support\n",
      "\n",
      "           0       0.91      0.93      0.92      1049\n",
      "           1       0.93      0.92      0.92      1107\n",
      "\n",
      "    accuracy                           0.92      2156\n",
      "   macro avg       0.92      0.92      0.92      2156\n",
      "weighted avg       0.92      0.92      0.92      2156\n",
      "\n"
     ]
    }
   ],
   "source": [
    "mlp_score = f1_score(mlp_pred, y_test)\n",
    "print(classification_report(mlp_pred, y_test))"
   ]
  },
  {
   "cell_type": "markdown",
   "id": "sensitive-macintosh",
   "metadata": {},
   "source": [
    "## SVC"
   ]
  },
  {
   "cell_type": "code",
   "execution_count": 38,
   "id": "persistent-jimmy",
   "metadata": {},
   "outputs": [],
   "source": [
    "from sklearn.svm import SVC\n",
    "\n",
    "svclf = SVC()"
   ]
  },
  {
   "cell_type": "code",
   "execution_count": 39,
   "id": "crazy-bradley",
   "metadata": {},
   "outputs": [],
   "source": [
    "params_svc = {\n",
    "    \"kernel\": [\"linear\", \"rbf\", \"poly\"],\n",
    "    \"gamma\": [0.1, 1, 10],\n",
    "    \"C\": [0.1, 1, 10],\n",
    "    \"degree\": [0, 4]\n",
    "}"
   ]
  },
  {
   "cell_type": "markdown",
   "id": "brilliant-feature",
   "metadata": {},
   "source": [
    "#### Training"
   ]
  },
  {
   "cell_type": "code",
   "execution_count": null,
   "id": "amateur-bonus",
   "metadata": {},
   "outputs": [],
   "source": [
    "svc = RandomizedSearchCV(svclf, params_svc, cv=10, scoring=\"f1\", n_jobs=-1, random_state=42)\n",
    "svc.fit(X_train, y_train)"
   ]
  },
  {
   "cell_type": "markdown",
   "id": "satisfied-commodity",
   "metadata": {},
   "source": [
    "#### Results"
   ]
  },
  {
   "cell_type": "code",
   "execution_count": 41,
   "id": "rocky-chapter",
   "metadata": {},
   "outputs": [],
   "source": [
    "svc_pred = svc.predict(X_test)"
   ]
  },
  {
   "cell_type": "code",
   "execution_count": 42,
   "id": "fifth-racing",
   "metadata": {},
   "outputs": [
    {
     "name": "stdout",
     "output_type": "stream",
     "text": [
      "              precision    recall  f1-score   support\n",
      "\n",
      "           0       0.96      0.90      0.93      1147\n",
      "           1       0.89      0.96      0.92      1009\n",
      "\n",
      "    accuracy                           0.93      2156\n",
      "   macro avg       0.93      0.93      0.93      2156\n",
      "weighted avg       0.93      0.93      0.93      2156\n",
      "\n"
     ]
    }
   ],
   "source": [
    "svc_score = f1_score(svc_pred, y_test)\n",
    "print(classification_report(svc_pred, y_test))"
   ]
  },
  {
   "cell_type": "markdown",
   "id": "protective-ratio",
   "metadata": {},
   "source": [
    "## Naive-Bayes"
   ]
  },
  {
   "cell_type": "code",
   "execution_count": 43,
   "id": "informative-drove",
   "metadata": {},
   "outputs": [],
   "source": [
    "from sklearn.naive_bayes import GaussianNB\n",
    "\n",
    "nbclf = GaussianNB()"
   ]
  },
  {
   "cell_type": "code",
   "execution_count": 44,
   "id": "arctic-ratio",
   "metadata": {},
   "outputs": [],
   "source": [
    "params_nb = {\n",
    "    'var_smoothing': np.logspace(0,-9, num=100)\n",
    "}"
   ]
  },
  {
   "cell_type": "markdown",
   "id": "expired-percentage",
   "metadata": {},
   "source": [
    "#### Training"
   ]
  },
  {
   "cell_type": "code",
   "execution_count": null,
   "id": "ethical-stockholm",
   "metadata": {},
   "outputs": [],
   "source": [
    "nb = RandomizedSearchCV(nbclf, params_nb, cv=10, scoring=\"f1\", n_jobs=-1, random_state=42)\n",
    "nb.fit(X_train, y_train)"
   ]
  },
  {
   "cell_type": "markdown",
   "id": "regional-baghdad",
   "metadata": {},
   "source": [
    "#### Results"
   ]
  },
  {
   "cell_type": "code",
   "execution_count": 46,
   "id": "raised-season",
   "metadata": {},
   "outputs": [],
   "source": [
    "nb_pred = nb.predict(X_test)"
   ]
  },
  {
   "cell_type": "code",
   "execution_count": 47,
   "id": "radio-invalid",
   "metadata": {},
   "outputs": [
    {
     "name": "stdout",
     "output_type": "stream",
     "text": [
      "              precision    recall  f1-score   support\n",
      "\n",
      "           0       0.26      0.90      0.41       312\n",
      "           1       0.97      0.57      0.72      1844\n",
      "\n",
      "    accuracy                           0.62      2156\n",
      "   macro avg       0.62      0.74      0.57      2156\n",
      "weighted avg       0.87      0.62      0.68      2156\n",
      "\n"
     ]
    }
   ],
   "source": [
    "nb_score = f1_score(nb_pred, y_test)\n",
    "print(classification_report(nb_pred, y_test))"
   ]
  },
  {
   "cell_type": "markdown",
   "id": "paperback-calculator",
   "metadata": {},
   "source": [
    "# Analysis"
   ]
  },
  {
   "cell_type": "code",
   "execution_count": 48,
   "id": "active-cherry",
   "metadata": {},
   "outputs": [],
   "source": [
    "scores = [rf_score, dt_score, knn_score, mlp_score, svc_score, nb_score]\n",
    "labels = [\"RF\", \"DT\", \"KNN\", \"MLP\", \"SVC\", \"NB\"]"
   ]
  },
  {
   "cell_type": "code",
   "execution_count": 49,
   "id": "cooperative-harvard",
   "metadata": {
    "scrolled": false
   },
   "outputs": [
    {
     "data": {
      "image/png": "[encoded data removed]",
      "text/plain": [
       "<Figure size 640x480 with 1 Axes>"
      ]
     },
     "metadata": {},
     "output_type": "display_data"
    }
   ],
   "source": [
    "plt.rcdefaults()\n",
    "fig, ax = plt.subplots()\n",
    "ax.barh(labels, scores)\n",
    "plt.xlim([0.70, 0.95])\n",
    "plt.xlabel(\"F1 Score\")\n",
    "plt.ylabel(\"Model\")\n",
    "plt.title(\"Comparison of different Models Prediction Results using the Merged Dataset\")\n",
    "plt.show()"
   ]
  },
  {
   "cell_type": "markdown",
   "id": "tropical-database",
   "metadata": {},
   "source": [
    "# Results"
   ]
  },
  {
   "cell_type": "code",
   "execution_count": 51,
   "id": "prerequisite-target",
   "metadata": {},
   "outputs": [
    {
     "data": {
      "image/png": "[encoded data removed]",
      "text/plain": [
       "<Figure size 640x480 with 2 Axes>"
      ]
     },
     "metadata": {},
     "output_type": "display_data"
    }
   ],
   "source": [
    "cm = confusion_matrix(y_test, svc_pred)\n",
    "disp = ConfusionMatrixDisplay(confusion_matrix=cm, display_labels=[\"Benign\", \"Malicious\"])\n",
    "disp.plot()\n",
    "plt.title(\"Confusion Matrix of SVC on the Merged Dataset\")\n",
    "plt.show()"
   ]
  },
  {
   "cell_type": "markdown",
   "id": "verified-hobby",
   "metadata": {},
   "source": [
    "# Bagging Multiple Models"
   ]
  },
  {
   "cell_type": "markdown",
   "id": "cellular-controversy",
   "metadata": {},
   "source": [
    "#### Combining Predictions"
   ]
  },
  {
   "cell_type": "code",
   "execution_count": 52,
   "id": "assigned-quest",
   "metadata": {},
   "outputs": [],
   "source": [
    "bagging_pred = []\n",
    "for i in range(0, len(y_test)):\n",
    "    bagging_pred.append([rf_pred[i], mlp_pred[i], svc_pred[i], knn_pred[i], dt_pred[i]])"
   ]
  },
  {
   "cell_type": "code",
   "execution_count": 53,
   "id": "obvious-uniform",
   "metadata": {},
   "outputs": [],
   "source": [
    "bagging_pred = list(map(lambda pred: 1 if sum(pred) > 2 else 0, bagging_pred))"
   ]
  },
  {
   "cell_type": "markdown",
   "id": "processed-method",
   "metadata": {},
   "source": [
    "#### Bagging Results"
   ]
  },
  {
   "cell_type": "code",
   "execution_count": 55,
   "id": "unlimited-poultry",
   "metadata": {},
   "outputs": [
    {
     "name": "stdout",
     "output_type": "stream",
     "text": [
      "              precision    recall  f1-score   support\n",
      "\n",
      "           0       0.96      0.92      0.94      1106\n",
      "           1       0.92      0.96      0.94      1050\n",
      "\n",
      "    accuracy                           0.94      2156\n",
      "   macro avg       0.94      0.94      0.94      2156\n",
      "weighted avg       0.94      0.94      0.94      2156\n",
      "\n"
     ]
    }
   ],
   "source": [
    "print(classification_report(bagging_pred, y_test))"
   ]
  },
  {
   "cell_type": "code",
   "execution_count": 59,
   "id": "enhanced-first",
   "metadata": {
    "scrolled": false
   },
   "outputs": [
    {
     "data": {
      "image/png": "[encoded data removed]",
      "text/plain": [
       "<Figure size 640x480 with 2 Axes>"
      ]
     },
     "metadata": {},
     "output_type": "display_data"
    }
   ],
   "source": [
    "cm = confusion_matrix(y_test, bagging_pred)\n",
    "disp = ConfusionMatrixDisplay(confusion_matrix=cm, display_labels=[\"Benign\", \"Malicious\"])\n",
    "disp.plot()\n",
    "plt.title(\"Confusion Matrix of Bagging on the Merged Dataset\")\n",
    "plt.show()"
   ]
  },
  {
   "cell_type": "markdown",
   "id": "accepting-acrobat",
   "metadata": {},
   "source": [
    "#### Comparison between Bagging and SVC"
   ]
  },
  {
   "cell_type": "code",
   "execution_count": 60,
   "id": "tested-animal",
   "metadata": {},
   "outputs": [
    {
     "data": {
      "image/png": "[encoded data removed]",
      "text/plain": [
       "<Figure size 640x480 with 1 Axes>"
      ]
     },
     "metadata": {},
     "output_type": "display_data"
    }
   ],
   "source": [
    "labels = ['Accuracy', 'F1-Score']\n",
    "acc = [accuracy_score(bagging_pred, y_test), f1_score(bagging_pred, y_test)]\n",
    "f1 = [accuracy_score(svc_pred, y_test), f1_score(svc_pred, y_test)]\n",
    "\n",
    "x = np.arange(len(labels))\n",
    "width = 0.35\n",
    "\n",
    "plt.rcdefaults()\n",
    "fig, ax = plt.subplots()\n",
    "rects1 = ax.bar(x - width/2, acc, width, label='Bagging')\n",
    "rects2 = ax.bar(x + width/2, f1, width, label='SVC')\n",
    "\n",
    "ax.set_ylabel('Scores')\n",
    "ax.set_xticks(x)\n",
    "ax.set_xticklabels(labels)\n",
    "plt.ylim([0.9, 0.96])\n",
    "ax.legend()\n",
    "\n",
    "fig.tight_layout()\n",
    "\n",
    "plt.show() "
   ]
  }
 ],
 "metadata": {
  "kernelspec": {
   "display_name": "Python 3",
   "language": "python",
   "name": "python3"
  },
  "language_info": {
   "codemirror_mode": {
    "name": "ipython",
    "version": 3
   },
   "file_extension": ".py",
   "mimetype": "text/x-python",
   "name": "python",
   "nbconvert_exporter": "python",
   "pygments_lexer": "ipython3",
   "version": "3.6.13"
  }
 },
 "nbformat": 4,
 "nbformat_minor": 5
}
