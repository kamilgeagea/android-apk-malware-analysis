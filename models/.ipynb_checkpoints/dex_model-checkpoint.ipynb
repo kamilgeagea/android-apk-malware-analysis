{
 "cells": [
  {
   "cell_type": "code",
   "execution_count": 1,
   "id": "regulation-relative",
   "metadata": {},
   "outputs": [],
   "source": [
    "import pandas as pd\n",
    "import numpy as np\n",
    "from sklearn.model_selection import train_test_split\n",
    "from sklearn.metrics import f1_score, classification_report\n",
    "from sklearn.model_selection import GridSearchCV, RandomizedSearchCV\n",
    "import matplotlib.pyplot as plt"
   ]
  },
  {
   "cell_type": "markdown",
   "id": "promising-passport",
   "metadata": {},
   "source": [
    "# Data Preprocessing"
   ]
  },
  {
   "cell_type": "code",
   "execution_count": 2,
   "id": "lined-assessment",
   "metadata": {},
   "outputs": [],
   "source": [
    "df = pd.read_csv(\"../datasets/dex_dataset.csv\")"
   ]
  },
  {
   "cell_type": "markdown",
   "id": "administrative-marathon",
   "metadata": {},
   "source": [
    "#### Dataset Vizualization"
   ]
  },
  {
   "cell_type": "code",
   "execution_count": 12,
   "id": "surprising-weather",
   "metadata": {},
   "outputs": [],
   "source": [
    "malicious_count = len(df[df['is_malicious']==1])\n",
    "benign_count = len(df[df['is_malicious']==0])"
   ]
  },
  {
   "cell_type": "code",
   "execution_count": 13,
   "id": "genuine-gasoline",
   "metadata": {},
   "outputs": [],
   "source": [
    "labels = [\"Benign\", \"Malicious\"]\n",
    "frequency = [benign_count, malicious_count]"
   ]
  },
  {
   "cell_type": "code",
   "execution_count": 14,
   "id": "published-recognition",
   "metadata": {},
   "outputs": [
    {
     "data": {
      "image/png": "[encoded data removed]",
      "text/plain": [
       "<Figure size 432x288 with 1 Axes>"
      ]
     },
     "metadata": {
      "needs_background": "light"
     },
     "output_type": "display_data"
    }
   ],
   "source": [
    "plt.bar(labels, frequency, width=0.5)\n",
    "plt.xlabel(\"Type\")\n",
    "plt.ylabel(\"Frequency\")\n",
    "plt.title(\"Frequency of the labels in the Dataset\")\n",
    "plt.show()"
   ]
  },
  {
   "cell_type": "markdown",
   "id": "bacterial-release",
   "metadata": {},
   "source": [
    "#### Data Split"
   ]
  },
  {
   "cell_type": "code",
   "execution_count": 15,
   "id": "regulation-stuff",
   "metadata": {},
   "outputs": [],
   "source": [
    "from sklearn.utils import shuffle\n",
    "\n",
    "df = shuffle(df, random_state=42)\n",
    "\n",
    "X = df.drop([\"Unnamed: 0\", \"id\", \"is_malicious\"], axis=1)\n",
    "y = df[\"is_malicious\"]\n",
    "\n",
    "X_train, X_test, y_train, y_test = train_test_split(X, y, test_size=0.2, random_state=42)"
   ]
  },
  {
   "cell_type": "markdown",
   "id": "academic-cylinder",
   "metadata": {},
   "source": [
    "# Model Training"
   ]
  },
  {
   "cell_type": "markdown",
   "id": "pointed-sender",
   "metadata": {},
   "source": [
    "## Random Forest"
   ]
  },
  {
   "cell_type": "code",
   "execution_count": 16,
   "id": "chief-position",
   "metadata": {},
   "outputs": [],
   "source": [
    "from sklearn.ensemble import RandomForestClassifier\n",
    "\n",
    "rfclf = RandomForestClassifier()"
   ]
  },
  {
   "cell_type": "code",
   "execution_count": 17,
   "id": "appointed-klein",
   "metadata": {},
   "outputs": [],
   "source": [
    "params_rf = {\n",
    "    \"n_estimators\": [100, 300, 500, 800, 1200],\n",
    "    \"max_depth\": [5, 8, 15, 25, 30],\n",
    "    \"min_samples_split\": [2, 5, 10, 15, 100],\n",
    "    \"min_samples_leaf\": [1, 2, 5, 10]\n",
    "}"
   ]
  },
  {
   "cell_type": "markdown",
   "id": "difficult-palestinian",
   "metadata": {},
   "source": [
    "#### Training"
   ]
  },
  {
   "cell_type": "code",
   "execution_count": null,
   "id": "utility-nebraska",
   "metadata": {},
   "outputs": [],
   "source": [
    "rf = RandomizedSearchCV(rfclf, params_rf, cv=10, scoring=\"f1\", n_jobs=-1, random_state=42)\n",
    "rf.fit(X_train, y_train)"
   ]
  },
  {
   "cell_type": "markdown",
   "id": "monthly-corporation",
   "metadata": {},
   "source": [
    "#### Results"
   ]
  },
  {
   "cell_type": "code",
   "execution_count": 19,
   "id": "professional-natural",
   "metadata": {},
   "outputs": [],
   "source": [
    "rf_pred = rf.predict(X_test)"
   ]
  },
  {
   "cell_type": "code",
   "execution_count": 20,
   "id": "accurate-novelty",
   "metadata": {},
   "outputs": [
    {
     "name": "stdout",
     "output_type": "stream",
     "text": [
      "              precision    recall  f1-score   support\n",
      "\n",
      "           0       0.84      0.85      0.85      1033\n",
      "           1       0.86      0.85      0.86      1123\n",
      "\n",
      "    accuracy                           0.85      2156\n",
      "   macro avg       0.85      0.85      0.85      2156\n",
      "weighted avg       0.85      0.85      0.85      2156\n",
      "\n"
     ]
    }
   ],
   "source": [
    "rf_score = f1_score(rf_pred, y_test)\n",
    "print(classification_report(rf_pred, y_test))"
   ]
  },
  {
   "cell_type": "markdown",
   "id": "convertible-presentation",
   "metadata": {},
   "source": [
    "## Decision Tree"
   ]
  },
  {
   "cell_type": "code",
   "execution_count": 21,
   "id": "verbal-advisory",
   "metadata": {},
   "outputs": [],
   "source": [
    "from sklearn.tree import DecisionTreeClassifier\n",
    "\n",
    "dtclf = DecisionTreeClassifier()"
   ]
  },
  {
   "cell_type": "code",
   "execution_count": 22,
   "id": "liquid-courtesy",
   "metadata": {},
   "outputs": [],
   "source": [
    "params_dt = {\n",
    "    \"criterion\": [\"gini\", \"entropy\"],\n",
    "    \"max_depth\": [5, 8, 15, 25, 30, 40, 50, 70, 90, 120, 150],\n",
    "    \"min_samples_split\": [2, 5, 10, 15, 100],\n",
    "    \"min_samples_leaf\": [1, 2, 5, 10]\n",
    "}"
   ]
  },
  {
   "cell_type": "markdown",
   "id": "eleven-hardwood",
   "metadata": {},
   "source": [
    "#### Training"
   ]
  },
  {
   "cell_type": "code",
   "execution_count": null,
   "id": "unique-avenue",
   "metadata": {},
   "outputs": [],
   "source": [
    "dt = RandomizedSearchCV(dtclf, params_dt, cv=10, scoring=\"f1\", n_jobs=-1, random_state=42)\n",
    "dt.fit(X_train, y_train)"
   ]
  },
  {
   "cell_type": "markdown",
   "id": "raising-joyce",
   "metadata": {},
   "source": [
    "#### Results"
   ]
  },
  {
   "cell_type": "code",
   "execution_count": 24,
   "id": "legendary-presence",
   "metadata": {},
   "outputs": [],
   "source": [
    "dt_pred = dt.predict(X_test)"
   ]
  },
  {
   "cell_type": "code",
   "execution_count": 25,
   "id": "optional-eclipse",
   "metadata": {},
   "outputs": [
    {
     "name": "stdout",
     "output_type": "stream",
     "text": [
      "              precision    recall  f1-score   support\n",
      "\n",
      "           0       0.79      0.80      0.80      1047\n",
      "           1       0.81      0.80      0.81      1109\n",
      "\n",
      "    accuracy                           0.80      2156\n",
      "   macro avg       0.80      0.80      0.80      2156\n",
      "weighted avg       0.80      0.80      0.80      2156\n",
      "\n"
     ]
    }
   ],
   "source": [
    "dt_score = f1_score(dt_pred, y_test)\n",
    "print(classification_report(dt_pred, y_test))"
   ]
  },
  {
   "cell_type": "markdown",
   "id": "running-payment",
   "metadata": {},
   "source": [
    "## KNN"
   ]
  },
  {
   "cell_type": "code",
   "execution_count": 26,
   "id": "valuable-excess",
   "metadata": {},
   "outputs": [],
   "source": [
    "from sklearn.neighbors import KNeighborsClassifier\n",
    "\n",
    "knnclf = KNeighborsClassifier()"
   ]
  },
  {
   "cell_type": "code",
   "execution_count": 27,
   "id": "thorough-breath",
   "metadata": {},
   "outputs": [],
   "source": [
    "params_knn = {\n",
    "    \"n_neighbors\": range(3,100,2)\n",
    "}"
   ]
  },
  {
   "cell_type": "markdown",
   "id": "exposed-thursday",
   "metadata": {},
   "source": [
    "#### Training"
   ]
  },
  {
   "cell_type": "code",
   "execution_count": null,
   "id": "armed-space",
   "metadata": {},
   "outputs": [],
   "source": [
    "knn = RandomizedSearchCV(knnclf, params_knn, cv=10, scoring=\"f1\", n_jobs=-1, random_state=42)\n",
    "knn.fit(X_train, y_train)"
   ]
  },
  {
   "cell_type": "markdown",
   "id": "legislative-force",
   "metadata": {},
   "source": [
    "#### Results"
   ]
  },
  {
   "cell_type": "code",
   "execution_count": 29,
   "id": "tribal-postage",
   "metadata": {},
   "outputs": [],
   "source": [
    "knn_pred = knn.predict(X_test)"
   ]
  },
  {
   "cell_type": "code",
   "execution_count": 30,
   "id": "explicit-welding",
   "metadata": {},
   "outputs": [
    {
     "name": "stdout",
     "output_type": "stream",
     "text": [
      "              precision    recall  f1-score   support\n",
      "\n",
      "           0       0.76      0.84      0.80       961\n",
      "           1       0.86      0.79      0.82      1195\n",
      "\n",
      "    accuracy                           0.81      2156\n",
      "   macro avg       0.81      0.81      0.81      2156\n",
      "weighted avg       0.82      0.81      0.81      2156\n",
      "\n"
     ]
    }
   ],
   "source": [
    "knn_score = f1_score(knn_pred, y_test)\n",
    "print(classification_report(knn_pred, y_test))"
   ]
  },
  {
   "cell_type": "markdown",
   "id": "distinct-ukraine",
   "metadata": {},
   "source": [
    "## MLP"
   ]
  },
  {
   "cell_type": "code",
   "execution_count": 31,
   "id": "italic-waters",
   "metadata": {},
   "outputs": [],
   "source": [
    "from sklearn.neural_network import MLPClassifier\n",
    "\n",
    "mlpclf = MLPClassifier()"
   ]
  },
  {
   "cell_type": "code",
   "execution_count": 32,
   "id": "blessed-robertson",
   "metadata": {},
   "outputs": [],
   "source": [
    "params_mlp = {\n",
    "    'hidden_layer_sizes': [(50,50,50), (50,100,50), (100,)],\n",
    "    'activation': ['tanh', 'relu'],\n",
    "    'solver': ['sgd', 'adam'],\n",
    "    'alpha': [0.0001, 0.05],\n",
    "    'learning_rate': ['constant','adaptive'],\n",
    "}"
   ]
  },
  {
   "cell_type": "markdown",
   "id": "conscious-warner",
   "metadata": {},
   "source": [
    "#### Training"
   ]
  },
  {
   "cell_type": "code",
   "execution_count": null,
   "id": "mounted-romantic",
   "metadata": {},
   "outputs": [],
   "source": [
    "mlp = RandomizedSearchCV(mlpclf, params_mlp, cv=10, scoring=\"f1\", n_jobs=-1, random_state=42)\n",
    "mlp.fit(X_train, y_train)"
   ]
  },
  {
   "cell_type": "markdown",
   "id": "incorporated-auditor",
   "metadata": {},
   "source": [
    "#### Results"
   ]
  },
  {
   "cell_type": "code",
   "execution_count": 34,
   "id": "european-australia",
   "metadata": {},
   "outputs": [],
   "source": [
    "mlp_pred = mlp.predict(X_test)"
   ]
  },
  {
   "cell_type": "markdown",
   "id": "demonstrated-month",
   "metadata": {},
   "source": [
    "## SVC"
   ]
  },
  {
   "cell_type": "code",
   "execution_count": 36,
   "id": "placed-virginia",
   "metadata": {},
   "outputs": [],
   "source": [
    "from sklearn.svm import SVC\n",
    "\n",
    "svclf = SVC()"
   ]
  },
  {
   "cell_type": "code",
   "execution_count": 37,
   "id": "dying-straight",
   "metadata": {},
   "outputs": [],
   "source": [
    "params_svc = {\n",
    "    \"kernel\": [\"linear\"],\n",
    "    \"gamma\": [0.1, 1, 10],\n",
    "    \"C\": [0.1, 1, 10],\n",
    "    \"degree\": [0, 4]\n",
    "}"
   ]
  },
  {
   "cell_type": "markdown",
   "id": "engaging-holocaust",
   "metadata": {},
   "source": [
    "#### Training"
   ]
  },
  {
   "cell_type": "code",
   "execution_count": null,
   "id": "conservative-optimization",
   "metadata": {},
   "outputs": [],
   "source": [
    "svc = RandomizedSearchCV(svclf, params_svc, cv=3, scoring=\"f1\", n_jobs=-1, random_state=42)\n",
    "svc.fit(X_train, y_train)"
   ]
  },
  {
   "cell_type": "markdown",
   "id": "driven-serve",
   "metadata": {},
   "source": [
    "#### Results"
   ]
  },
  {
   "cell_type": "code",
   "execution_count": 39,
   "id": "based-property",
   "metadata": {},
   "outputs": [],
   "source": [
    "svc_pred = svc.predict(X_test)"
   ]
  },
  {
   "cell_type": "code",
   "execution_count": 40,
   "id": "distinguished-preparation",
   "metadata": {},
   "outputs": [
    {
     "name": "stdout",
     "output_type": "stream",
     "text": [
      "              precision    recall  f1-score   support\n",
      "\n",
      "           0       0.71      0.81      0.76       927\n",
      "           1       0.84      0.75      0.79      1229\n",
      "\n",
      "    accuracy                           0.78      2156\n",
      "   macro avg       0.78      0.78      0.78      2156\n",
      "weighted avg       0.78      0.78      0.78      2156\n",
      "\n"
     ]
    }
   ],
   "source": [
    "svc_score = f1_score(svc_pred, y_test)\n",
    "print(classification_report(svc_pred, y_test))"
   ]
  },
  {
   "cell_type": "markdown",
   "id": "joined-letter",
   "metadata": {},
   "source": [
    "## Naive-Bayes"
   ]
  },
  {
   "cell_type": "code",
   "execution_count": 41,
   "id": "retired-providence",
   "metadata": {},
   "outputs": [],
   "source": [
    "from sklearn.naive_bayes import GaussianNB\n",
    "\n",
    "nbclf = GaussianNB()"
   ]
  },
  {
   "cell_type": "code",
   "execution_count": 42,
   "id": "proud-monday",
   "metadata": {},
   "outputs": [],
   "source": [
    "params_nb = {\n",
    "    'var_smoothing': np.logspace(0,-9, num=100)\n",
    "}"
   ]
  },
  {
   "cell_type": "markdown",
   "id": "after-hobby",
   "metadata": {},
   "source": [
    "#### Training"
   ]
  },
  {
   "cell_type": "code",
   "execution_count": null,
   "id": "vocal-florist",
   "metadata": {},
   "outputs": [],
   "source": [
    "nb = RandomizedSearchCV(nbclf, params_nb, cv=10, scoring=\"f1\", n_jobs=-1, random_state=42)\n",
    "nb.fit(X_train, y_train)"
   ]
  },
  {
   "cell_type": "markdown",
   "id": "cross-doctrine",
   "metadata": {},
   "source": [
    "#### Results"
   ]
  },
  {
   "cell_type": "code",
   "execution_count": 44,
   "id": "documentary-survey",
   "metadata": {},
   "outputs": [],
   "source": [
    "nb_pred = nb.predict(X_test)"
   ]
  },
  {
   "cell_type": "code",
   "execution_count": 45,
   "id": "offshore-words",
   "metadata": {},
   "outputs": [
    {
     "name": "stdout",
     "output_type": "stream",
     "text": [
      "              precision    recall  f1-score   support\n",
      "\n",
      "           0       0.84      0.60      0.70      1488\n",
      "           1       0.46      0.75      0.57       668\n",
      "\n",
      "    accuracy                           0.65      2156\n",
      "   macro avg       0.65      0.68      0.63      2156\n",
      "weighted avg       0.72      0.65      0.66      2156\n",
      "\n"
     ]
    }
   ],
   "source": [
    "nb_score = f1_score(nb_pred, y_test)\n",
    "print(classification_report(nb_pred, y_test))"
   ]
  },
  {
   "cell_type": "markdown",
   "id": "descending-richards",
   "metadata": {},
   "source": [
    "# Analysis"
   ]
  },
  {
   "cell_type": "code",
   "execution_count": 46,
   "id": "front-softball",
   "metadata": {},
   "outputs": [],
   "source": [
    "scores = [rf_score, dt_score, knn_score, mlp_score, svc_score, nb_score]\n",
    "labels = [\"RF\", \"DT\", \"KNN\", \"MLP\", \"SVC\", \"NB\"]"
   ]
  },
  {
   "cell_type": "code",
   "execution_count": 50,
   "id": "velvet-philip",
   "metadata": {
    "scrolled": false
   },
   "outputs": [
    {
     "data": {
      "image/png": "[encoded data removed]",
      "text/plain": [
       "<Figure size 640x480 with 1 Axes>"
      ]
     },
     "metadata": {},
     "output_type": "display_data"
    }
   ],
   "source": [
    "plt.rcdefaults()\n",
    "fig, ax = plt.subplots()\n",
    "ax.barh(labels, scores)\n",
    "plt.xlim([0.5, 0.88])\n",
    "plt.xlabel(\"F1 Score\")\n",
    "plt.ylabel(\"Model\")\n",
    "plt.title(\"Comparison of different Models Prediction Results using the Manifest Dataset\")\n",
    "plt.show()"
   ]
  },
  {
   "cell_type": "markdown",
   "id": "normal-chain",
   "metadata": {},
   "source": [
    "# Results"
   ]
  },
  {
   "cell_type": "code",
   "execution_count": 52,
   "id": "rising-universe",
   "metadata": {},
   "outputs": [
    {
     "name": "stdout",
     "output_type": "stream",
     "text": [
      "The best Classifier is Random Forest with an F1 score of 0.86\n"
     ]
    }
   ],
   "source": [
    "print(\"The best Classifier is Random Forest with an F1 score of %.2f\" % rf_score)"
   ]
  }
 ],
 "metadata": {
  "kernelspec": {
   "display_name": "Python 3",
   "language": "python",
   "name": "python3"
  },
  "language_info": {
   "codemirror_mode": {
    "name": "ipython",
    "version": 3
   },
   "file_extension": ".py",
   "mimetype": "text/x-python",
   "name": "python",
   "nbconvert_exporter": "python",
   "pygments_lexer": "ipython3",
   "version": "3.6.13"
  }
 },
 "nbformat": 4,
 "nbformat_minor": 5
}
